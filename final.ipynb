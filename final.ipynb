{
  "nbformat": 4,
  "nbformat_minor": 0,
  "metadata": {
    "colab": {
      "name": "final.ipynb",
      "provenance": [],
      "collapsed_sections": [],
      "mount_file_id": "1nxvC4CZA9eZvGoX1YILGTWrVjQRItE1J",
      "authorship_tag": "ABX9TyOFq0P5mvsyQ/JBJ8j8M5ES",
      "include_colab_link": true
    },
    "kernelspec": {
      "name": "python3",
      "display_name": "Python 3"
    },
    "language_info": {
      "name": "python"
    }
  },
  "cells": [
    {
      "cell_type": "markdown",
      "metadata": {
        "id": "view-in-github",
        "colab_type": "text"
      },
      "source": [
        "<a href=\"https://colab.research.google.com/github/melekayas/hu-bby162-2021/blob/main/final.ipynb\" target=\"_parent\"><img src=\"https://colab.research.google.com/assets/colab-badge.svg\" alt=\"Open In Colab\"/></a>"
      ]
    },
    {
      "cell_type": "code",
      "metadata": {
        "id": "5bhIf6eFBSzH",
        "colab": {
          "base_uri": "https://localhost:8080/"
        },
        "outputId": "b76ede62-4b75-4f12-97aa-0c9c6b25d4b2"
      },
      "source": [
        "\n",
        "dosya =  \"/content/drive/MyDrive/Colab Notebooks/final.txt\"\n",
        "def eserListesi():\n",
        "  dosya =  \"/content/drive/MyDrive/Colab Notebooks/final.txt\"\n",
        "  f = open(dosya, \"r\") \n",
        "\n",
        "  for line in f.readlines():\n",
        "      print(line)\n",
        "\n",
        "  f.close()\n",
        "\n",
        "\n",
        "\n",
        "def eserKaydet():\n",
        "  ad = input(\" Eser adı giriniz: \")\n",
        "  yazar = input(\" Yazar adı giriniz: \")\n",
        "  yayın = input(\" Yayınevi giriniz: \")\n",
        "  basım = input(\" Basım tarihi giriniz: \")\n",
        "  Isbn = input(\" ISBN numarası giriniz: \")\n",
        "\n",
        "  with open(\"/content/drive/MyDrive/Colab Notebooks/final.txt\", \"a\", encoding=\"utf-8\") as file:\n",
        "    file.write(ad+ \",\"+yazar+ \".\"+yayın+ \",\"+basım+ \",\"+Isbn+\"\\n\")\n",
        "\n",
        "def menu():\n",
        "  print(\" *** Kütüphane Bilgi Sistemi ***\")\n",
        "  while True:\n",
        "    islem = input(\"1- Eserleri görüntüle\\n2- Eserleri kaydet\\n3- Çıkış yap.\")\n",
        "    \n",
        "    if islem == \"1\":\n",
        "      eserListesi()\n",
        "    elif islem == \"2\":\n",
        "      eserKaydet()\n",
        "    elif islem == \"3\":\n",
        "      print(\"Çıkış yapılıyor.\")\n",
        "      break\n",
        "menu()\n"
      ],
      "execution_count": 4,
      "outputs": [
        {
          "output_type": "stream",
          "text": [
            " *** Kütüphane Bilgi Sistemi ***\n",
            "1- Eserleri görüntüle\n",
            "2- Eserleri kaydet\n",
            "3- Çıkış yap.1\n",
            "Bir Idam Mahkumunun Son Gunu, Victor Hugo, Turkiye İş Bankası, 2013, 9786053609902\n",
            "\n",
            "\n",
            "\n",
            "Dönüşüm, Franz Kafka, Türkiye İş Bankası, 2020, 9786053609322\n",
            "\n",
            "\n",
            "\n",
            "Bin Dokuz Yüz Seksen Dört, George Orwell, Can Yayınları, 2011, 9789750718533\n",
            "\n",
            "\n",
            "\n",
            "Baskerville'lerin Köpeği, Sherlock Holmes; Maviçatı Yayınları, 2018, 9789752401259\n",
            "\n",
            "\n",
            "\n",
            "Suç Ve Ceza, Fyodor Mihaylovic Dostoyevski, Türkiye İş Bankası, 2020, 9789754589023\n",
            "\n",
            "Ttutunamayanlar,Oğuz Atay.Türkiye İş Bankası,2020,9789757894356\n",
            "\n",
            "Bilinmeyen Bir Kadının Mektubu,Stefan Zweig.Türkiye İş Bankası,2020,9786053606604\n",
            "\n",
            "1- Eserleri görüntüle\n",
            "2- Eserleri kaydet\n",
            "3- Çıkış yap.2\n",
            " Eser adı giriniz: Kızıl\n",
            " Yazar adı giriniz: Stefan Zweig\n",
            " Yayınevi giriniz: Türkiye İş Bankası\n",
            " Basım tarihi giriniz: 2020\n",
            " ISBN numarası giriniz: 9786052954539\n",
            "1- Eserleri görüntüle\n",
            "2- Eserleri kaydet\n",
            "3- Çıkış yap.3\n",
            "Çıkış yapılıyor.\n"
          ],
          "name": "stdout"
        }
      ]
    }
  ]
}