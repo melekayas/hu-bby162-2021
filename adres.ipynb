{
  "nbformat": 4,
  "nbformat_minor": 0,
  "metadata": {
    "colab": {
      "name": "adres.ipynb",
      "provenance": [],
      "collapsed_sections": [],
      "mount_file_id": "1bDac4BdPm_iIhvZ8Zs_LJ1Cn6jTpSGDq",
      "authorship_tag": "ABX9TyNwiu/Qk+R1PMGvKxpp88TE",
      "include_colab_link": true
    },
    "kernelspec": {
      "name": "python3",
      "display_name": "Python 3"
    },
    "language_info": {
      "name": "python"
    }
  },
  "cells": [
    {
      "cell_type": "markdown",
      "metadata": {
        "id": "view-in-github",
        "colab_type": "text"
      },
      "source": [
        "<a href=\"https://colab.research.google.com/github/melekayas/hu-bby162-2021/blob/main/adres.ipynb\" target=\"_parent\"><img src=\"https://colab.research.google.com/assets/colab-badge.svg\" alt=\"Open In Colab\"/></a>"
      ]
    },
    {
      "cell_type": "code",
      "metadata": {
        "colab": {
          "base_uri": "https://localhost:8080/"
        },
        "id": "FNk35mABe6Kk",
        "outputId": "4f1d7b19-c990-4958-b019-f3731a2917ac"
      },
      "source": [
        "dosya =  \"/content/drive/MyDrive/Colab Notebooks/adres.txt\"\n",
        "\n",
        "f = open(dosya, \"r\") \n",
        "\n",
        "for line in f.readlines():\n",
        "    print(line)\n",
        "\n",
        "f.close()"
      ],
      "execution_count": null,
      "outputs": [
        {
          "output_type": "stream",
          "text": [
            "Ad: Melek\n",
            "\n",
            "Soyad: Ayas\n",
            "\n",
            "E-mail: 455meleksaya1102@gmail.com\n",
            "\n"
          ],
          "name": "stdout"
        }
      ]
    },
    {
      "cell_type": "markdown",
      "metadata": {
        "id": "yhpTkxZzggLA"
      },
      "source": [
        "# Yeni Bölüm"
      ]
    },
    {
      "cell_type": "code",
      "metadata": {
        "id": "CsMdpS_tiMyL"
      },
      "source": [
        "dosya = \"/content/drive/MyDrive/Colab Notebooks/adres.txt\"\n",
        "\n",
        "f = open(dosya, 'w') # Mevcut veriye ek veri yazılması için parametre: 'a'\n",
        "f.write(\"test\") # Her yeni verinin bir alt satıra yazdırılması \"test\\n\"\n",
        "f.close()"
      ],
      "execution_count": null,
      "outputs": []
    },
    {
      "cell_type": "code",
      "metadata": {
        "colab": {
          "base_uri": "https://localhost:8080/"
        },
        "id": "oENglOWiZzfz",
        "outputId": "c06084e1-a346-454b-8448-d8f3c0777983"
      },
      "source": [
        "dosya = \"/content/drive/MyDrive/Colab Notebooks/adres.txt\"\n",
        "\n",
        "adSoyad = input(\"Ad soyad giriniz: \")\n",
        "\n",
        "email = input(\"Email giriniz: \")\n",
        "\n",
        "'''\n",
        "def adSoyad():\n",
        "  bilgi = input(\"Ad Soyad giriniz: \")\n",
        "\n",
        "def email():\n",
        "  bilg = input(\"Email giriniz: \")\n",
        "\n",
        "\n",
        "def giris():\n",
        "  print(\" 1- Ad ve soyad giriniz.\")\n",
        "  print(\" 2- E-mail giriniz.\")\n",
        "  secilen = input(\"Hangi işlemi yapmak istiyorsunuz (1/2):\")\n",
        "  if secilen == \"1\":\n",
        "    adSoyad()\n",
        "  else:\n",
        "    email()\n",
        "\n",
        "giris()   #Bu fonksiyonu çalıştırdım ve başarılı oldu fakat [f.write(adSoyad + \" / \" + email + \"\\n\")] bu kısmı geçersiz saydı ve düzeltemedim. \n",
        "Bu yüzden eklemedim.\n",
        "\n",
        "'''\n",
        "\n",
        "f = open(dosya, 'a') # Mevcut veriye ek veri yazılması için parametre: 'a'\n",
        "f.write(adSoyad + \" / \" + email + \"\\n\")\n",
        "f.close()\n",
        "\n",
        "dosya =  \"/content/drive/MyDrive/Colab Notebooks/adres.txt\"\n",
        "\n",
        "f = open(dosya, \"r\") \n",
        "\n",
        "for line in f.readlines():\n",
        "    print(line)\n",
        "\n",
        "f.close()\n",
        "\n"
      ],
      "execution_count": 9,
      "outputs": [
        {
          "output_type": "stream",
          "text": [
            "Ad soyad giriniz: Melek Ayas\n",
            "Email giriniz: 455meleksaya1102@gmail.com\n",
            "Ad: Melek\n",
            "\n",
            "Soyad: Ayas\n",
            "\n",
            "E-mail: 455meleksaya1102@gmail.com\n",
            "\n",
            "Melek Ayas / 455meleksaya1102@gmail.com\n",
            "\n"
          ],
          "name": "stdout"
        }
      ]
    }
  ]
}